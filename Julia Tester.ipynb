{
 "cells": [
  {
   "cell_type": "code",
   "execution_count": 1,
   "id": "222d1286",
   "metadata": {},
   "outputs": [],
   "source": [
    "import os\n",
    "import time\n",
    "import filecmp\n"
   ]
  },
  {
   "cell_type": "code",
   "execution_count": 2,
   "id": "ee8e01fd",
   "metadata": {},
   "outputs": [],
   "source": [
    "def find_the_way(path,file_format):\n",
    "    files_add = []\n",
    "    # r=root, d=directories, f = files\n",
    "    for r, d, f in os.walk(path):\n",
    "        for file in f:\n",
    "            if file_format in file:\n",
    "                files_add.append(os.path.join(r, file))  \n",
    "    return files_add"
   ]
  },
  {
   "cell_type": "code",
   "execution_count": 3,
   "id": "a5083df1",
   "metadata": {},
   "outputs": [
    {
     "data": {
      "text/plain": [
       "['./1\\\\1.txt',\n",
       " './10\\\\1.txt',\n",
       " './11\\\\1.txt',\n",
       " './12\\\\1.txt',\n",
       " './13\\\\1.txt',\n",
       " './14\\\\1.txt',\n",
       " './2\\\\1.txt',\n",
       " './3\\\\1.txt',\n",
       " './4\\\\1.txt',\n",
       " './5\\\\1.txt',\n",
       " './6\\\\1.txt',\n",
       " './7\\\\1.txt',\n",
       " './8\\\\1.txt',\n",
       " './9\\\\1.txt']"
      ]
     },
     "execution_count": 3,
     "metadata": {},
     "output_type": "execute_result"
    }
   ],
   "source": [
    "files_add=find_the_way(\"./\",\"1.txt\")\n",
    "files_add"
   ]
  },
  {
   "cell_type": "code",
   "execution_count": 4,
   "id": "8f00f417",
   "metadata": {},
   "outputs": [],
   "source": [
    "def compare(sample):\n",
    "    with open(sample) as f:\n",
    "        lines1 = f.readlines()\n",
    "    with open('out.txt') as f:\n",
    "        lines2 = f.readlines()  \n",
    "    return lines1,lines2"
   ]
  },
  {
   "cell_type": "markdown",
   "id": "10c23c36",
   "metadata": {},
   "source": [
    "# JULIA TESTER"
   ]
  },
  {
   "cell_type": "code",
   "execution_count": 11,
   "id": "5dc2bcfa",
   "metadata": {
    "scrolled": false
   },
   "outputs": [
    {
     "name": "stdout",
     "output_type": "stream",
     "text": [
      "./1\\1.txt\n",
      "3.8346521854400635\n",
      "OK\n",
      "./10\\1.txt\n",
      "4.112561941146851\n",
      "OK\n",
      "./11\\1.txt\n",
      "3.786363124847412\n",
      "OK\n",
      "./12\\1.txt\n",
      "3.770958185195923\n",
      "OK\n",
      "./13\\1.txt\n",
      "3.6376454830169678\n",
      "OK\n",
      "./14\\1.txt\n",
      "4.080813407897949\n",
      "OK\n",
      "./2\\1.txt\n",
      "3.8667025566101074\n",
      "OK\n",
      "./3\\1.txt\n",
      "3.792802572250366\n",
      "OK\n",
      "./4\\1.txt\n",
      "4.071123361587524\n",
      "OK\n",
      "./5\\1.txt\n",
      "4.247268199920654\n",
      "OK\n",
      "./6\\1.txt\n",
      "3.861241340637207\n",
      "OK\n",
      "./7\\1.txt\n",
      "4.301725149154663\n",
      "OK\n",
      "./8\\1.txt\n",
      "12.351963996887207\n",
      "OK\n",
      "./9\\1.txt\n",
      "5.111220121383667\n",
      "OK\n"
     ]
    }
   ],
   "source": [
    "for file in files_add:\n",
    "    print(file)\n",
    "    test_time=0\n",
    "    for repeat in range(10):\n",
    "        second=time.time()\n",
    "        command=f\"type \\\"{file}\\\"  | julia The_Code.jl\"\n",
    "        os.system(command)\n",
    "        test_time+=(float((time.time()-second)) )\n",
    "    result=file.replace(\"1.txt\",\"2.txt\")\n",
    "    command=f\"type \\\"{file}\\\" | julia The_Code.jl -> out.txt\"\n",
    "    os.system(command)\n",
    "    l1,l2=compare(result)\n",
    "    print(test_time)\n",
    "    if l1!=l2:\n",
    "        print(\"WRONG!!!\")\n",
    "    else:print(\"OK\")\n",
    "\n",
    "    \n",
    "\n",
    "\n"
   ]
  },
  {
   "cell_type": "markdown",
   "id": "942f488a",
   "metadata": {},
   "source": [
    "# PYTHON TESTER"
   ]
  },
  {
   "cell_type": "code",
   "execution_count": 12,
   "id": "d2594097",
   "metadata": {},
   "outputs": [
    {
     "name": "stdout",
     "output_type": "stream",
     "text": [
      "./1\\1.txt\n",
      "1.2963318824768066\n",
      "OK\n",
      "./10\\1.txt\n",
      "1.2047841548919678\n",
      "OK\n",
      "./11\\1.txt\n",
      "1.0736382007598877\n",
      "OK\n",
      "./12\\1.txt\n",
      "1.2689456939697266\n",
      "OK\n",
      "./13\\1.txt\n",
      "1.4737999439239502\n",
      "OK\n",
      "./14\\1.txt\n",
      "1.501523733139038\n",
      "OK\n",
      "./2\\1.txt\n",
      "1.3364264965057373\n",
      "OK\n",
      "./3\\1.txt\n",
      "1.2922775745391846\n",
      "OK\n",
      "./4\\1.txt\n",
      "1.1247985363006592\n",
      "OK\n",
      "./5\\1.txt\n",
      "1.1189091205596924\n",
      "OK\n",
      "./6\\1.txt\n",
      "1.4639568328857422\n",
      "OK\n",
      "./7\\1.txt\n",
      "1.5538437366485596\n",
      "OK\n",
      "./8\\1.txt\n",
      "1.3472373485565186\n",
      "OK\n",
      "./9\\1.txt\n",
      "1.282257318496704\n",
      "OK\n"
     ]
    }
   ],
   "source": [
    "for file in files_add:\n",
    "    print(file)\n",
    "    test_time=0\n",
    "    for repeat in range(10):\n",
    "        second=time.time()\n",
    "        command=f\"type \\\"{file}\\\"  | python The_Code.py\"\n",
    "        os.system(command)\n",
    "        test_time+=(float((time.time()-second)) )\n",
    "    result=file.replace(\"1.txt\",\"2.txt\")\n",
    "    command=f\"type \\\"{file}\\\" | python The_Code.py -> out.txt\"\n",
    "    os.system(command)\n",
    "    l1,l2=compare(result)\n",
    "    print(test_time)\n",
    "    if l1!=l2:\n",
    "        print(\"WRONG!!!\")\n",
    "    else:print(\"OK\")\n",
    "\n",
    "    \n",
    "\n",
    "\n"
   ]
  },
  {
   "cell_type": "code",
   "execution_count": null,
   "id": "06bcec72",
   "metadata": {},
   "outputs": [],
   "source": []
  },
  {
   "cell_type": "code",
   "execution_count": null,
   "id": "b010a16d",
   "metadata": {},
   "outputs": [],
   "source": []
  }
 ],
 "metadata": {
  "kernelspec": {
   "display_name": "Python 3 (ipykernel)",
   "language": "python",
   "name": "python3"
  },
  "language_info": {
   "codemirror_mode": {
    "name": "ipython",
    "version": 3
   },
   "file_extension": ".py",
   "mimetype": "text/x-python",
   "name": "python",
   "nbconvert_exporter": "python",
   "pygments_lexer": "ipython3",
   "version": "3.9.12"
  }
 },
 "nbformat": 4,
 "nbformat_minor": 5
}
