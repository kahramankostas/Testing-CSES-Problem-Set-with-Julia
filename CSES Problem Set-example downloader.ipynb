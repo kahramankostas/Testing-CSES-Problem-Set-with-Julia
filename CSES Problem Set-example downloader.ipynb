{
 "cells": [
  {
   "cell_type": "code",
   "execution_count": 1,
   "id": "64851705",
   "metadata": {},
   "outputs": [],
   "source": [
    "# adapted from\n",
    "# https://github.com/mrsac7/CSES-Solution-Extractor"
   ]
  },
  {
   "cell_type": "code",
   "execution_count": 2,
   "id": "54c004b3",
   "metadata": {},
   "outputs": [],
   "source": [
    "from bs4 import BeautifulSoup\n",
    "import requests\n",
    "import urllib.request \n",
    "import os\n",
    "def folder(f_name): #this function creates a folder named \"attacks\" in the program directory.\n",
    "    try:\n",
    "        if not os.path.exists(f_name):\n",
    "            os.makedirs(f_name)\n",
    "    except OSError:\n",
    "        print (\"The folder could not be created!\")"
   ]
  },
  {
   "cell_type": "code",
   "execution_count": 3,
   "id": "a7fecc7d",
   "metadata": {},
   "outputs": [],
   "source": [
    "def getQuestions():\n",
    "    ques = dict()\n",
    "    r = session.get(r'https://cses.fi/problemset/').content\n",
    "    soup = BeautifulSoup(r, 'html.parser')\n",
    "    for t in soup.find_all('li', class_ = 'task'):\n",
    "        quesID = t.a['href'].split('/')[-1]\n",
    "        ques[quesID] =  t.a.string\n",
    "    return ques"
   ]
  },
  {
   "cell_type": "code",
   "execution_count": 4,
   "id": "e9783cb1",
   "metadata": {},
   "outputs": [],
   "source": [
    "def createSession(username, password):\n",
    "    loginData = {\n",
    "        'nick': username,\n",
    "        'pass': password\n",
    "    }\n",
    "    with requests.Session() as s:\n",
    "        url = 'https://cses.fi/login'\n",
    "        soup = BeautifulSoup(s.get(url).content, 'html.parser')\n",
    "        loginData['csrf_token'] = soup.find('input', attrs = {'name':'csrf_token'})['value']\n",
    "        r = s.post(url, data = loginData)\n",
    "        return s\n",
    "\n"
   ]
  },
  {
   "cell_type": "code",
   "execution_count": 5,
   "id": "8fe19cdc",
   "metadata": {},
   "outputs": [],
   "source": [
    "def getSolution(ques, sol):\n",
    "    r = session.get(sol).content\n",
    "    soup = BeautifulSoup(r, 'html.parser')\n",
    "    code = soup.find('pre', class_ = \"linenums\").get_text()\n",
    "    return code,soup"
   ]
  },
  {
   "cell_type": "code",
   "execution_count": 6,
   "id": "1040aab0",
   "metadata": {},
   "outputs": [],
   "source": [
    "def findCorrectSolution(ques):\n",
    "    r = session.get(r\"https://cses.fi/problemset/view/\"+ques+\"/\").content\n",
    "    soup = BeautifulSoup(r,'html.parser')\n",
    "    if int(soup.find('p').string.split()[-1]) == 0: # No of submissions\n",
    "        return None\n",
    "\n",
    "    for link in soup.find_all('a', attrs = {'class':'details-link'}):\n",
    "        sol = link['href']\n",
    "        res = soup.find('a', href = sol, class_ ='').span['class'][2] #get status of a solution\n",
    "        if res == 'full':\n",
    "            return 'https://cses.fi'+sol\n",
    "    return None\n"
   ]
  },
  {
   "cell_type": "code",
   "execution_count": 7,
   "id": "d6909cec",
   "metadata": {},
   "outputs": [],
   "source": [
    "r = requests.get(\"https://cses.fi/problemset/\").content\n",
    "soup = BeautifulSoup(r,'html.parser')\n",
    "username = input('username: ')\n",
    "password = input('passowrd: ')\n",
    "session = createSession(username, password)\n",
    "questions = getQuestions()\n",
    "for _ in questions:\n",
    "    sol = findCorrectSolution(_);\n",
    "    if not sol:\n",
    "        continue\n",
    "    code,urls = getSolution(_, sol)\n",
    "    \n",
    "    \n",
    "    counter=3\n",
    "    for a in urls.select(\"div.samp-actions\"):\n",
    "        c=a.select(\"a.save\")\n",
    "        url=c[0].get(\"href\")\n",
    "        k=url.split(\"/\")\n",
    "        k[-3]\n",
    "        folder(f\"./{_}-{questions[_]}/{counter//3}/\")\n",
    "        filename=f\"./{_}-{questions[_]}/{counter//3}/{k[-3]}.txt\"\n",
    "        url=\"https://cses.fi/\"+url\n",
    "        urllib.request.urlretrieve(url, filename)\n",
    "        counter+=1\n",
    "    \n",
    "        path = f\"./{_}-{questions[_]}/The_Code.py\"\n",
    "        file = open(path, 'w')\n",
    "        file.writelines(code.split('\\n'))\n",
    "        file.close()\n"
   ]
  },
  {
   "cell_type": "code",
   "execution_count": null,
   "id": "20dac098",
   "metadata": {},
   "outputs": [],
   "source": []
  }
 ],
 "metadata": {
  "kernelspec": {
   "display_name": "Python 3 (ipykernel)",
   "language": "python",
   "name": "python3"
  },
  "language_info": {
   "codemirror_mode": {
    "name": "ipython",
    "version": 3
   },
   "file_extension": ".py",
   "mimetype": "text/x-python",
   "name": "python",
   "nbconvert_exporter": "python",
   "pygments_lexer": "ipython3",
   "version": "3.9.12"
  }
 },
 "nbformat": 4,
 "nbformat_minor": 5
}
